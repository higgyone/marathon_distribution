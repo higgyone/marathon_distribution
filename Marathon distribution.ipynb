{
 "cells": [
  {
   "cell_type": "code",
   "execution_count": null,
   "id": "cde18825",
   "metadata": {},
   "outputs": [],
   "source": [
    "import numpy as np\n",
    "import matplotlib.pyplot as plt\n",
    "import pandas as pd\n",
    "import datetime\n",
    "import time\n",
    "from scipy.stats import genextreme as gev\n",
    "import openturns as ot\n",
    "import openturns.viewer as viewer\n",
    "import sympy"
   ]
  },
  {
   "cell_type": "code",
   "execution_count": null,
   "id": "2713e740",
   "metadata": {},
   "outputs": [],
   "source": [
    "marathon_results = \"Results_manchester_marathon_2022.xlsx\" "
   ]
  },
  {
   "cell_type": "code",
   "execution_count": null,
   "id": "56f3ddbd",
   "metadata": {},
   "outputs": [],
   "source": [
    "df = pd.read_excel (marathon_results,index_col='Chiptime', parse_dates=True)\n",
    "#df = pd.read_excel (marathon_results)"
   ]
  },
  {
   "cell_type": "code",
   "execution_count": null,
   "id": "6fb2d837",
   "metadata": {},
   "outputs": [],
   "source": [
    "print(df.columns)"
   ]
  },
  {
   "cell_type": "code",
   "execution_count": null,
   "id": "220b282a",
   "metadata": {},
   "outputs": [],
   "source": [
    "df"
   ]
  },
  {
   "cell_type": "code",
   "execution_count": null,
   "id": "4cff924e",
   "metadata": {},
   "outputs": [],
   "source": [
    "df.drop(['Bib', 'Name','Team / Club', 'Avg speed', 'Avg pace', 'Status', 'Split - 10K - Duration', 'Split - 10K - Cumulative time',\n",
    "       'Split - 10K - Rank', 'Split - Halfway - Duration',\n",
    "       'Split - Halfway - Cumulative time', 'Split - Halfway - Rank',\n",
    "       'Split - 30K - Duration', 'Split - 30K - Cumulative time',\n",
    "       'Split - 30K - Rank', 'Split - Finish - Duration',\n",
    "       'Split - Finish - Cumulative time'], axis=1, inplace=True)"
   ]
  },
  {
   "cell_type": "code",
   "execution_count": null,
   "id": "7ea169f4",
   "metadata": {},
   "outputs": [],
   "source": [
    "df"
   ]
  },
  {
   "cell_type": "code",
   "execution_count": null,
   "id": "bd45203f",
   "metadata": {},
   "outputs": [],
   "source": [
    "#data = df[df.index != datetime.time(0, 0, 0)] # remove no times\n",
    "data = df[df.index != datetime.datetime(2022,4,22,0, 0, 0)] # remove no times"
   ]
  },
  {
   "cell_type": "code",
   "execution_count": null,
   "id": "fbba75ec",
   "metadata": {},
   "outputs": [],
   "source": [
    "data"
   ]
  },
  {
   "cell_type": "code",
   "execution_count": null,
   "id": "c59c056a",
   "metadata": {},
   "outputs": [],
   "source": [
    "data.dtypes"
   ]
  },
  {
   "cell_type": "code",
   "execution_count": null,
   "id": "9482b112",
   "metadata": {},
   "outputs": [],
   "source": [
    "data.index"
   ]
  },
  {
   "cell_type": "code",
   "execution_count": null,
   "id": "657927cc",
   "metadata": {
    "scrolled": false
   },
   "outputs": [],
   "source": [
    "data.groupby(pd.Grouper(freq='5Min')).count().plot(kind='bar')"
   ]
  },
  {
   "cell_type": "code",
   "execution_count": null,
   "id": "15d8803f",
   "metadata": {},
   "outputs": [],
   "source": [
    "d = data.drop(['Category', 'Category Position',\n",
    "        'Gender', 'Gender Position'], axis=1)\n"
   ]
  },
  {
   "cell_type": "code",
   "execution_count": null,
   "id": "bd9f8539",
   "metadata": {},
   "outputs": [],
   "source": [
    "d['Occurrences'] = 1\n",
    "d.drop(['Overall Position'], axis=1, inplace=True)"
   ]
  },
  {
   "cell_type": "code",
   "execution_count": null,
   "id": "915d79aa",
   "metadata": {},
   "outputs": [],
   "source": [
    "d.groupby(pd.Grouper(freq='20Min')).count().plot(kind='bar')"
   ]
  },
  {
   "cell_type": "code",
   "execution_count": null,
   "id": "917eeae4",
   "metadata": {},
   "outputs": [],
   "source": [
    "res = d.groupby(pd.Grouper(freq='20Min')).count()"
   ]
  },
  {
   "cell_type": "code",
   "execution_count": null,
   "id": "3c8c7e8d",
   "metadata": {},
   "outputs": [],
   "source": [
    "res"
   ]
  },
  {
   "cell_type": "code",
   "execution_count": null,
   "id": "8c7af32f",
   "metadata": {},
   "outputs": [],
   "source": [
    "d_clean = d.iloc[:-11 , :] # last value is way out"
   ]
  },
  {
   "cell_type": "code",
   "execution_count": null,
   "id": "1a0c0acc",
   "metadata": {},
   "outputs": [],
   "source": [
    "d_clean.groupby(pd.Grouper(freq='5Min')).count().plot(kind='bar')"
   ]
  },
  {
   "cell_type": "code",
   "execution_count": null,
   "id": "96b6171b",
   "metadata": {},
   "outputs": [],
   "source": [
    "res_clean = d_clean.groupby(pd.Grouper(freq='5Min')).count()\n",
    "res_clean.describe()"
   ]
  },
  {
   "cell_type": "code",
   "execution_count": null,
   "id": "61104f7c",
   "metadata": {
    "scrolled": false
   },
   "outputs": [],
   "source": [
    "print(res_clean.to_markdown())"
   ]
  },
  {
   "cell_type": "code",
   "execution_count": null,
   "id": "5e3f4a6d",
   "metadata": {},
   "outputs": [],
   "source": [
    "df_1= pd.read_excel (marathon_results)"
   ]
  },
  {
   "cell_type": "code",
   "execution_count": null,
   "id": "5d681ed5",
   "metadata": {},
   "outputs": [],
   "source": [
    "df_1.drop(['Bib', 'Name','Team / Club', 'Avg speed', 'Avg pace', 'Status', 'Split - 10K - Duration', 'Split - 10K - Cumulative time',\n",
    "       'Split - 10K - Rank', 'Split - Halfway - Duration',\n",
    "       'Split - Halfway - Cumulative time', 'Split - Halfway - Rank',\n",
    "       'Split - 30K - Duration', 'Split - 30K - Cumulative time',\n",
    "       'Split - 30K - Rank', 'Split - Finish - Duration',\n",
    "       'Split - Finish - Cumulative time'], axis=1, inplace=True)"
   ]
  },
  {
   "cell_type": "code",
   "execution_count": null,
   "id": "e29dbf3e",
   "metadata": {},
   "outputs": [],
   "source": [
    "df_1"
   ]
  },
  {
   "cell_type": "code",
   "execution_count": null,
   "id": "e982a93a",
   "metadata": {},
   "outputs": [],
   "source": [
    "display(df_1.dtypes)"
   ]
  },
  {
   "cell_type": "code",
   "execution_count": null,
   "id": "172875a4",
   "metadata": {},
   "outputs": [],
   "source": [
    "print(\"Type of Names Column : \", type(df_1.iloc[:, 0]))"
   ]
  },
  {
   "cell_type": "code",
   "execution_count": null,
   "id": "420a831b",
   "metadata": {},
   "outputs": [],
   "source": [
    "print(\"Type of Names Column Element : \", type(df_1.iloc[:, 1][2]))"
   ]
  },
  {
   "cell_type": "code",
   "execution_count": null,
   "id": "7a60e97d",
   "metadata": {},
   "outputs": [],
   "source": [
    "print(f\"time/date: {df_1.iloc[1][1]}\")"
   ]
  },
  {
   "cell_type": "code",
   "execution_count": null,
   "id": "e608abed",
   "metadata": {},
   "outputs": [],
   "source": [
    "#df_1[\"Chiptime\"] = pd.to_datetime(df_1[\"Chiptime\"])\n",
    "df_1['seconds'] = [(val.hour*60+val.minute)*60 + val.second for val in df_1['Chiptime']]"
   ]
  },
  {
   "cell_type": "code",
   "execution_count": null,
   "id": "cd9891d4",
   "metadata": {},
   "outputs": [],
   "source": [
    "df_1['seconds']"
   ]
  },
  {
   "cell_type": "code",
   "execution_count": null,
   "id": "f2ad77d1",
   "metadata": {},
   "outputs": [],
   "source": [
    "df_1_clean = df_1[df_1['Chiptime'] != datetime.time(0, 0, 0)] # remove no times"
   ]
  },
  {
   "cell_type": "code",
   "execution_count": null,
   "id": "fce1f08d",
   "metadata": {},
   "outputs": [],
   "source": [
    "df_1_clean"
   ]
  },
  {
   "cell_type": "code",
   "execution_count": null,
   "id": "41daec7e",
   "metadata": {
    "scrolled": true
   },
   "outputs": [],
   "source": [
    "#seconds_in_2_hrs = 60*60*2\n",
    "#df_1_clean['sec_2hr'] = df_1_clean['seconds'] - seconds_in_2_hrs"
   ]
  },
  {
   "cell_type": "code",
   "execution_count": null,
   "id": "42334ba8",
   "metadata": {},
   "outputs": [],
   "source": [
    "#df_1_clean"
   ]
  },
  {
   "cell_type": "code",
   "execution_count": null,
   "id": "3d26f0b3",
   "metadata": {},
   "outputs": [],
   "source": [
    "#df_1_clean['add_secs'] = df_1_clean['seconds'] - df_1_clean['seconds'][0]"
   ]
  },
  {
   "cell_type": "code",
   "execution_count": null,
   "id": "899cc60f",
   "metadata": {},
   "outputs": [],
   "source": [
    "#df_1_clean"
   ]
  },
  {
   "cell_type": "code",
   "execution_count": null,
   "id": "54aa5cf8",
   "metadata": {},
   "outputs": [],
   "source": [
    "#df_1_clean['add_secs'].describe()"
   ]
  },
  {
   "cell_type": "code",
   "execution_count": null,
   "id": "33e7cd29",
   "metadata": {},
   "outputs": [],
   "source": [
    "#mean_add = df_1_clean['add_secs'].mean()"
   ]
  },
  {
   "cell_type": "code",
   "execution_count": null,
   "id": "d55f6f3e",
   "metadata": {},
   "outputs": [],
   "source": [
    "#mean_add"
   ]
  },
  {
   "cell_type": "code",
   "execution_count": null,
   "id": "0c33c5bf",
   "metadata": {},
   "outputs": [],
   "source": [
    "#mean_stddev = df_1_clean['seconds'].std()\n",
    "#print(f'mean HH:MM:SS {time.strftime(\"%H:%M:%S\", time.gmtime(mean_stddev))}')"
   ]
  },
  {
   "cell_type": "code",
   "execution_count": null,
   "id": "6593a565",
   "metadata": {},
   "outputs": [],
   "source": [
    "#mean_secs = df_1_clean['seconds'].mean()\n",
    "#print(f'mean = {time.strftime(\"%H:%M:%S\", time.gmtime(mean_secs))}')"
   ]
  },
  {
   "cell_type": "code",
   "execution_count": null,
   "id": "2bd804ab",
   "metadata": {},
   "outputs": [],
   "source": [
    "#stddev_secs = df_1_clean['seconds'].std()\n",
    "#print(f'std dev = {time.strftime(\"%H:%M:%S\", time.gmtime(stddev_secs))}')"
   ]
  },
  {
   "cell_type": "code",
   "execution_count": null,
   "id": "50bc25b1",
   "metadata": {},
   "outputs": [],
   "source": [
    "print(df_1_clean['Category'].unique())"
   ]
  },
  {
   "cell_type": "markdown",
   "id": "2b9f676a",
   "metadata": {},
   "source": [
    "## MV45"
   ]
  },
  {
   "cell_type": "code",
   "execution_count": null,
   "id": "24c4ea61",
   "metadata": {},
   "outputs": [],
   "source": [
    "df_mv45 = df_1_clean.loc[df_1_clean['Category'] == 'MV45']\n",
    "df_mv45"
   ]
  },
  {
   "cell_type": "code",
   "execution_count": null,
   "id": "1f80d583",
   "metadata": {},
   "outputs": [],
   "source": [
    "n,bins,patches = plt.hist(df_mv45['seconds'], edgecolor=\"red\", bins=50)"
   ]
  },
  {
   "cell_type": "code",
   "execution_count": null,
   "id": "767571b6",
   "metadata": {},
   "outputs": [],
   "source": [
    "bins"
   ]
  },
  {
   "cell_type": "code",
   "execution_count": null,
   "id": "1de475e6",
   "metadata": {},
   "outputs": [],
   "source": [
    "mv45_results = ot.Sample([[p] for p in df_mv45['seconds']])\n",
    "mv45_distribution = ot.GeneralizedExtremeValueFactory().buildAsGeneralizedExtremeValue(mv45_results)\n",
    "print(mv45_distribution)"
   ]
  },
  {
   "cell_type": "code",
   "execution_count": null,
   "id": "13dbf97d",
   "metadata": {},
   "outputs": [],
   "source": [
    "graph = mv45_distribution.drawPDF()\n",
    "graph.add(ot.HistogramFactory().build(mv45_results).drawPDF())\n",
    "graph.setColors([\"black\", \"red\"])\n",
    "graph.setLegends([\"GEV fitting\", \"histogram\"])\n",
    "graph.setLegendPosition(\"topright\")\n",
    "\n",
    "view = viewer.View(graph)\n",
    "axes = view.getAxes()\n",
    "#_ = axes[0].set_xlim(-20.0, 20.0)"
   ]
  },
  {
   "cell_type": "code",
   "execution_count": null,
   "id": "189b53e1",
   "metadata": {},
   "outputs": [],
   "source": [
    "print(mv45_distribution.getActualDistribution())"
   ]
  },
  {
   "cell_type": "markdown",
   "id": "8ae22bb7",
   "metadata": {},
   "source": [
    "### Weibull distribution"
   ]
  },
  {
   "cell_type": "code",
   "execution_count": null,
   "id": "b09cdc7f",
   "metadata": {},
   "outputs": [],
   "source": [
    "mean_45 = mv45_distribution.getMean()\n",
    "sigma_45 = mv45_distribution.getSigma() # location\n",
    "mu_45 = mv45_distribution.getMu() # scale\n",
    "xi_45 = mv45_distribution.getXi() # shape\n",
    "std_dev_45 = mv45_distribution.getStandardDeviation()"
   ]
  },
  {
   "cell_type": "code",
   "execution_count": null,
   "id": "3143e897",
   "metadata": {},
   "outputs": [],
   "source": [
    "print(f'mean MV45 = {mean_45}')\n",
    "print(f'std dev MV45 = {std_dev_45}')\n",
    "print(f'location MV45 = {sigma_45}')\n",
    "print(f'scale MV45 = {mu_45}')\n",
    "print(f'shape MV45 = {xi_45}')"
   ]
  },
  {
   "cell_type": "code",
   "execution_count": null,
   "id": "c273aee7",
   "metadata": {},
   "outputs": [],
   "source": [
    "mv45_std_dev_time = mean_45 - std_dev_45\n",
    "print('Weibull distribution')\n",
    "print(f'mean MV45 = {time.strftime(\"%H:%M:%S\", time.gmtime(int(mean_45[0])))}')\n",
    "print(f'std dev MV45 = {time.strftime(\"%H:%M:%S\", time.gmtime(int(std_dev_45[0])))}')\n",
    "print(f'time at 1 std dev MV45 = {time.strftime(\"%H:%M:%S\", time.gmtime(int(mv45_std_dev_time[0])))}')"
   ]
  },
  {
   "cell_type": "markdown",
   "id": "c14b24ab",
   "metadata": {},
   "source": [
    "###  Gumbel distribution (with shape ~0 this could be a Gumbel)"
   ]
  },
  {
   "cell_type": "code",
   "execution_count": null,
   "id": "ebcd279e",
   "metadata": {},
   "outputs": [],
   "source": [
    "gumbel_var = ((np.pi**2)/6)*sigma_45**2 # see wiki for variance of a gumbel plot. Here 2305.37 is scale parameter\n",
    "gumbel_stddev = np.sqrt(gumbel_var)"
   ]
  },
  {
   "cell_type": "code",
   "execution_count": null,
   "id": "825b947a",
   "metadata": {},
   "outputs": [],
   "source": [
    "gumbel_mean = mu_45 + sigma_45*sympy.EulerGamma.evalf() # see wiki on mean calculation of Gumbel distribution"
   ]
  },
  {
   "cell_type": "code",
   "execution_count": null,
   "id": "af1382f4",
   "metadata": {},
   "outputs": [],
   "source": [
    "print(f'mean MV45 = {time.strftime(\"%H:%M:%S\", time.gmtime(int(gumbel_mean)))}')\n",
    "print(f'var MV45 = {time.strftime(\"%H:%M:%S\", time.gmtime(gumbel_var))}')\n",
    "print(f'std dev MV45 = {time.strftime(\"%H:%M:%S\", time.gmtime(gumbel_stddev))}')"
   ]
  },
  {
   "cell_type": "code",
   "execution_count": null,
   "id": "d895c11c",
   "metadata": {},
   "outputs": [],
   "source": [
    "sympy.EulerGamma.evalf()"
   ]
  },
  {
   "cell_type": "code",
   "execution_count": null,
   "id": "1a20e459",
   "metadata": {},
   "outputs": [],
   "source": [
    "g_std_dev_1_time = gumbel_mean - gumbel_stddev\n",
    "print('Gumbel distribution')\n",
    "print(f'mean MV45 = {time.strftime(\"%H:%M:%S\", time.gmtime(int(gumbel_mean)))}')\n",
    "print(f'std dev MV45 = {time.strftime(\"%H:%M:%S\", time.gmtime(int(gumbel_stddev)))}')\n",
    "print(f'time at 1 std dev MV45 = {time.strftime(\"%H:%M:%S\", time.gmtime(int(g_std_dev_1_time)))}')"
   ]
  },
  {
   "cell_type": "markdown",
   "id": "50ee801b",
   "metadata": {},
   "source": [
    "### As a normal distribution"
   ]
  },
  {
   "cell_type": "code",
   "execution_count": null,
   "id": "cf34a5bb",
   "metadata": {},
   "outputs": [],
   "source": [
    "mean_secs_mv45 = df_mv45['seconds'].mean()\n",
    "stddev_secs_mv45 = df_mv45['seconds'].std()\n",
    "std_dev_1_time = mean_secs_mv45 - stddev_secs_mv45"
   ]
  },
  {
   "cell_type": "code",
   "execution_count": null,
   "id": "902334f8",
   "metadata": {},
   "outputs": [],
   "source": [
    "print('Normal distribution')\n",
    "print(f'mean MV 45 = {time.strftime(\"%H:%M:%S\", time.gmtime(mean_secs_mv45))}')\n",
    "print(f'std dev MV45 = {time.strftime(\"%H:%M:%S\", time.gmtime(stddev_secs_mv45))}')\n",
    "print(f'1 std dev time MV45 = {time.strftime(\"%H:%M:%S\", time.gmtime(std_dev_1_time))}')"
   ]
  },
  {
   "cell_type": "markdown",
   "id": "7ba9c4b6",
   "metadata": {},
   "source": [
    "## Males"
   ]
  },
  {
   "cell_type": "code",
   "execution_count": null,
   "id": "552c538b",
   "metadata": {
    "scrolled": false
   },
   "outputs": [],
   "source": [
    "df_male = df_1_clean.loc[df_1_clean['Gender'] == 'm']\n",
    "#df_male = df_1_clean.loc[df_1_clean['Category'].str.contains('M', na=False)]\n",
    "df_male"
   ]
  },
  {
   "cell_type": "markdown",
   "id": "751a5aa1",
   "metadata": {},
   "source": [
    "### Remove the last result as it is 5 hours after the next last result!"
   ]
  },
  {
   "cell_type": "code",
   "execution_count": null,
   "id": "c60035ab",
   "metadata": {},
   "outputs": [],
   "source": [
    "df_male = df_male[:-1]"
   ]
  },
  {
   "cell_type": "markdown",
   "id": "f09556fb",
   "metadata": {},
   "source": [
    "### get distribution and type"
   ]
  },
  {
   "cell_type": "code",
   "execution_count": null,
   "id": "a03c8589",
   "metadata": {},
   "outputs": [],
   "source": [
    "male_results = ot.Sample([[p] for p in df_male['seconds']])\n",
    "male_distribution = ot.GeneralizedExtremeValueFactory().buildAsGeneralizedExtremeValue(male_results)\n",
    "print(male_distribution)\n",
    "print(male_distribution.getActualDistribution())"
   ]
  },
  {
   "cell_type": "code",
   "execution_count": null,
   "id": "747af604",
   "metadata": {},
   "outputs": [],
   "source": [
    "graph = male_distribution.drawPDF()\n",
    "graph.add(ot.HistogramFactory().build(male_results).drawPDF())\n",
    "graph.setColors([\"black\", \"red\"])\n",
    "graph.setLegends([\"GEV fitting\", \"histogram\"])\n",
    "graph.setLegendPosition(\"topright\")\n",
    "\n",
    "view = viewer.View(graph)\n",
    "axes = view.getAxes()\n",
    "#_ = axes[0].set_xlim(-20.0, 20.0)"
   ]
  },
  {
   "cell_type": "code",
   "execution_count": null,
   "id": "ace8cd6f",
   "metadata": {},
   "outputs": [],
   "source": [
    "mean_male = male_distribution.getMean()\n",
    "sigma_male = male_distribution.getSigma() # location\n",
    "mu_male = male_distribution.getMu() # scale\n",
    "xi_male = male_distribution.getXi() # shape\n",
    "std_dev_male = male_distribution.getStandardDeviation()"
   ]
  },
  {
   "cell_type": "code",
   "execution_count": null,
   "id": "842eaa4a",
   "metadata": {},
   "outputs": [],
   "source": [
    "male_std_dev_time = mean_male - std_dev_male\n",
    "print(male_distribution.getActualDistribution())\n",
    "print(f'mean male = {time.strftime(\"%H:%M:%S\", time.gmtime(int(mean_male[0])))}')\n",
    "print(f'std dev male = {time.strftime(\"%H:%M:%S\", time.gmtime(int(std_dev_male[0])))}')\n",
    "print(f'time at 1 std dev male = {time.strftime(\"%H:%M:%S\", time.gmtime(int(male_std_dev_time[0])))}')"
   ]
  },
  {
   "cell_type": "markdown",
   "id": "f3ef94e4",
   "metadata": {},
   "source": [
    "## Female FV45"
   ]
  },
  {
   "cell_type": "code",
   "execution_count": null,
   "id": "82a68eac",
   "metadata": {},
   "outputs": [],
   "source": [
    "df_fv45 = df_1_clean.loc[df_1_clean['Category'] == 'FV45']\n",
    "df_fv45"
   ]
  },
  {
   "cell_type": "code",
   "execution_count": null,
   "id": "ff718e10",
   "metadata": {},
   "outputs": [],
   "source": [
    "fv45_results = ot.Sample([[p] for p in df_fv45['seconds']])\n",
    "fv45_distribution = ot.GeneralizedExtremeValueFactory().buildAsGeneralizedExtremeValue(fv45_results)\n",
    "print(fv45_distribution)\n",
    "print(fv45_distribution.getActualDistribution())"
   ]
  },
  {
   "cell_type": "code",
   "execution_count": null,
   "id": "80867c7d",
   "metadata": {},
   "outputs": [],
   "source": [
    "graph = fv45_distribution.drawPDF()\n",
    "graph.add(ot.HistogramFactory().build(fv45_results).drawPDF())\n",
    "graph.setColors([\"black\", \"red\"])\n",
    "graph.setLegends([\"GEV fitting\", \"histogram\"])\n",
    "graph.setLegendPosition(\"topright\")\n",
    "\n",
    "view = viewer.View(graph)\n",
    "axes = view.getAxes()\n",
    "#_ = axes[0].set_xlim(-20.0, 20.0)"
   ]
  },
  {
   "cell_type": "code",
   "execution_count": null,
   "id": "60581d8b",
   "metadata": {},
   "outputs": [],
   "source": [
    "mean_fv45 = fv45_distribution.getMean()\n",
    "sigma_fv45 = fv45_distribution.getSigma() # location\n",
    "mu_fv45 = fv45_distribution.getMu() # scale\n",
    "xi_fv45 = fv45_distribution.getXi() # shape\n",
    "std_dev_fv45 = fv45_distribution.getStandardDeviation()"
   ]
  },
  {
   "cell_type": "code",
   "execution_count": null,
   "id": "60a447ad",
   "metadata": {},
   "outputs": [],
   "source": [
    "fv45_std_dev_time = mean_fv45 - std_dev_fv45\n",
    "print(fv45_distribution.getActualDistribution())\n",
    "print(f'mean male = {time.strftime(\"%H:%M:%S\", time.gmtime(int(mean_fv45[0])))}')\n",
    "print(f'std dev male = {time.strftime(\"%H:%M:%S\", time.gmtime(int(std_dev_fv45[0])))}')\n",
    "print(f'time at 1 std dev fv45 = {time.strftime(\"%H:%M:%S\", time.gmtime(int(fv45_std_dev_time[0])))}')"
   ]
  },
  {
   "cell_type": "code",
   "execution_count": null,
   "id": "e4ac8d8a",
   "metadata": {},
   "outputs": [],
   "source": []
  }
 ],
 "metadata": {
  "kernelspec": {
   "display_name": "Python 3 (ipykernel)",
   "language": "python",
   "name": "python3"
  },
  "language_info": {
   "codemirror_mode": {
    "name": "ipython",
    "version": 3
   },
   "file_extension": ".py",
   "mimetype": "text/x-python",
   "name": "python",
   "nbconvert_exporter": "python",
   "pygments_lexer": "ipython3",
   "version": "3.9.12"
  }
 },
 "nbformat": 4,
 "nbformat_minor": 5
}
